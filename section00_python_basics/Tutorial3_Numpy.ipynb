{
 "cells": [
  {
   "cell_type": "markdown",
   "metadata": {},
   "source": [
    "![alt text](https://upload.wikimedia.org/wikipedia/commons/thumb/1/1a/NumPy_logo.svg/775px-NumPy_logo.svg.png)"
   ]
  },
  {
   "cell_type": "markdown",
   "metadata": {},
   "source": [
    "<h1> Numpy and python </h1>"
   ]
  },
  {
   "cell_type": "markdown",
   "metadata": {},
   "source": [
    "<h2> Introduction </h2> <br>\n",
    "NumPy (Numerical python) is a very popular Python library with a huge number of functions and utilities.\n",
    "Later when we introduce Pytorch (The Deep Learning Framework used in this unit) we will see that there are many similarities between it and Numpy. In this way Numpy is our stepping stone between basic Python and Pytorch!"
   ]
  },
  {
   "cell_type": "markdown",
   "metadata": {},
   "source": [
    "<h3> Python recap </h3> <br>\n",
    "Lets use pure Python to perform some matrix opperations"
   ]
  },
  {
   "cell_type": "code",
   "execution_count": 17,
   "metadata": {},
   "outputs": [],
   "source": [
    "#Create some \"Matrices\" as lists of lists  \n",
    "\n",
    "#3x3\n",
    "W = [[1, 1, 1],\n",
    "     [1.5, 1.5, 1.5],\n",
    "     [2, 2, 2]]\n",
    "\n",
    "#3x1\n",
    "x = [[6], [7], [8]]\n",
    "#3x1\n",
    "b = [[1], [1], [1]]\n",
    "\n",
    "#Variable to store output\n",
    "#3x1\n",
    "y = [[0], [0], [0]]"
   ]
  },
  {
   "cell_type": "markdown",
   "metadata": {},
   "source": [
    "Lets now compute Wx + b"
   ]
  },
  {
   "cell_type": "code",
   "execution_count": 18,
   "metadata": {},
   "outputs": [
    {
     "name": "stdout",
     "output_type": "stream",
     "text": [
      "Output:\n",
      " [[22], [32.5], [43]]\n"
     ]
    }
   ],
   "source": [
    "#First lets compute W*x\n",
    "for i in range(len(W)):\n",
    "    for j in range(len(x)):\n",
    "        y[i][0] += W[i][j] * x[j][0]\n",
    "        \n",
    "#now lets add b\n",
    "for i in range(len(y)):\n",
    "    y[i][0] += b[i][0]\n",
    "    \n",
    "#print out the result\n",
    "print(\"Output:\\n\", y)"
   ]
  },
  {
   "cell_type": "markdown",
   "metadata": {},
   "source": [
    "<h3> Introducing.... NumPy! </h3> <br>\n",
    "See how tedious matrix operations are with pure python!?<br> Instead of trying to create our own functions (which is often a waste of time as other implementations will often be much better than our own) let's use Numpy to do the same thing!"
   ]
  },
  {
   "cell_type": "code",
   "execution_count": 19,
   "metadata": {},
   "outputs": [],
   "source": [
    "#First we must import the numpy library! \n",
    "import numpy as np"
   ]
  },
  {
   "cell_type": "code",
   "execution_count": 20,
   "metadata": {},
   "outputs": [
    {
     "name": "stdout",
     "output_type": "stream",
     "text": [
      "Output:\n",
      " [[22. ]\n",
      " [32.5]\n",
      " [43. ]]\n",
      "Output shape:\n",
      " (3, 1)\n"
     ]
    }
   ],
   "source": [
    "#We can transform our list of lists into a \"numpy array\" by using the function \"array\"\n",
    "W_np = np.array(W)\n",
    "\n",
    "x_np = np.array(x)\n",
    "\n",
    "#lets use the function \"ones\" to create an array of ones!\n",
    "b_np = np.ones((3, 1))\n",
    "\n",
    "#Lets now compute Wx + b using these numpy variables!\n",
    "output = np.matmul(W_np, x_np) + b_np\n",
    "\n",
    "#print out the result\n",
    "print(\"Output:\\n\", output)\n",
    "print(\"Output shape:\\n\", output.shape)"
   ]
  },
  {
   "cell_type": "markdown",
   "metadata": {},
   "source": [
    "<h2> Tensors aka Multi-Dimensional Arrays </h2> <br>\n",
    "We've seen how we can create a \"matrix\" using np.array and a list of lists, lets have a little bit of a closer look at these multidemensional \"arrays\" also known as \"Tensors\"\n",
    "<br>\n",
    "eg:<br>\n",
    "A \"Scalar\" is a 0D Tensor<br>\n",
    "A \"Vector\" is a 1D Tensor<br>\n",
    "A \"Matrix\" is a 2D Tensor etc etc<br>\n",
    "An understanding of Tensors will be essential when we move to pytorch!!"
   ]
  },
  {
   "cell_type": "code",
   "execution_count": 21,
   "metadata": {},
   "outputs": [
    {
     "name": "stdout",
     "output_type": "stream",
     "text": [
      "Our 3D Tensor:\n",
      " [[[0.63589784 0.41207062 0.53301583 0.04492276]\n",
      "  [0.28871436 0.66821646 0.54818623 0.53813872]\n",
      "  [0.00553462 0.24649848 0.52476776 0.73648036]]\n",
      "\n",
      " [[0.57262968 0.3998941  0.01959637 0.25664567]\n",
      "  [0.86665845 0.66915126 0.02377289 0.3937613 ]\n",
      "  [0.16282646 0.63025034 0.55118971 0.40804468]]]\n"
     ]
    }
   ],
   "source": [
    "#Lets use numpy's \"random\" function (a part of the np.random module) to create a 3D Tensor!\n",
    "T = np.random.random((2,3,4))\n",
    "#Lets print it out!\n",
    "print(\"Our 3D Tensor:\\n\", T)"
   ]
  },
  {
   "cell_type": "markdown",
   "metadata": {},
   "source": [
    "From the above print out we can visualise what our 3D tensor looks like, we can pretend (for this Tensor) that it is just 2, 3x4 matrices stacked together. This interpretation can be useful when we move to higher dimensional Tensors later"
   ]
  },
  {
   "cell_type": "markdown",
   "metadata": {},
   "source": [
    "<h2> Basic Element-wise Operations </h2> <br>\n",
    "Lets see how we can perform some basic \"Element-wise\" operations on our numpy arrays (aka our Tensors)<br>\n",
    "Note: By \"Element wise\" we mean that the operation is applied independently to every value, as opposed to something like a matrix operation"
   ]
  },
  {
   "cell_type": "code",
   "execution_count": 22,
   "metadata": {},
   "outputs": [
    {
     "name": "stdout",
     "output_type": "stream",
     "text": [
      "Our 1D Tensor:\n",
      " [0 1 2 3 4 5 6 7 8 9]\n",
      "\n",
      "Scalar Multiplication:\n",
      " [ 0 10 20 30 40 50 60 70 80 90]\n",
      "Addition and Square:\n",
      " [  1   4   9  16  25  36  49  64  81 100]\n",
      "Addition:\n",
      " [ 0  2  4  6  8 10 12 14 16 18]\n",
      "Addition and division:\n",
      " [0.         0.5        0.66666667 0.75       0.8        0.83333333\n",
      " 0.85714286 0.875      0.88888889 0.9       ]\n",
      "\n",
      "Power and square root:\n",
      " [0. 1. 2. 3. 4. 5. 6. 7. 8. 9.]\n",
      "\n",
      "Y -\n",
      " Min:0.00\n",
      " Max:9.00\n",
      " Standard Deviation:2.87\n",
      " Sum:45.00\n"
     ]
    }
   ],
   "source": [
    "#lets create a 1D Tensor using \"arange\"\n",
    "y = np.arange(10)\n",
    "#this will create a \"Vector\" of numbers from 0 to 10\n",
    "print(\"Our 1D Tensor:\\n\",y)\n",
    "\n",
    "#We can perform normal python scalar arithmetic on numpy arrays\n",
    "print(\"\\nScalar Multiplication:\\n\",y * 10)\n",
    "print(\"Addition and Square:\\n\",(y + 1)**2)\n",
    "print(\"Addition:\\n\",y + y)\n",
    "print(\"Addition and division:\\n\",y / (y + 1))\n",
    "\n",
    "#We can use a combination of numpy functions and normal python arithmetic\n",
    "print(\"\\nPower and square root:\\n\",np.sqrt(y**2))\n",
    "\n",
    "#Numpy arrays are objects and have functions\n",
    "print(\"\\nY -\\n Min:%.2f\\n Max:%.2f\\n Standard Deviation:%.2f\\n Sum:%.2f\" %(y.min(), y.max(), y.std(), y.sum()))"
   ]
  },
  {
   "cell_type": "markdown",
   "metadata": {},
   "source": [
    "<h2> Matrix opperations </h2> <br>\n",
    "Now let's use some Numpy functions to perform some real matrix opperations"
   ]
  },
  {
   "cell_type": "code",
   "execution_count": 23,
   "metadata": {},
   "outputs": [
    {
     "name": "stdout",
     "output_type": "stream",
     "text": [
      "Addition:\n",
      " [[0.73976971 0.53651213 1.17419687]\n",
      " [1.36986869 0.55600254 0.36415462]\n",
      " [1.59736342 1.21464256 1.19923655]]\n",
      "Subtraction:\n",
      " [[ 0.61797016 -0.28123953 -0.41590868]\n",
      " [-0.14085244 -0.43333153 -0.11194379]\n",
      " [-0.38965053  0.30737119 -0.43982244]]\n",
      "Multiplication:\n",
      " [[0.51443676 0.51270427 0.88084091]\n",
      " [0.20904043 0.33880409 0.60651436]\n",
      " [0.98885091 0.79559599 0.97243595]]\n",
      "\n",
      "For Matrix 1:\n",
      "The inverse is:\n",
      " [[-0.77430897  2.5576796  -0.07627609]\n",
      " [-1.67463781  0.30708216  1.57016917]\n",
      " [ 4.58770075 -4.6829863  -0.39201201]]\n",
      "The Transpose is:\n",
      " [[0.67886993 0.61450812 0.60385645]\n",
      " [0.1276363  0.0613355  0.76100687]\n",
      " [0.3791441  0.12610541 0.37970706]]\n",
      "The Determinant is:\n",
      " 0.09386119361109026\n",
      "The Trace is:\n",
      " 1.1199124935287612\n",
      "The Rank is:\n",
      " 3\n",
      "The Eigenvalues are:\n",
      " [ 1.24521369+0.j         -0.0626506 +0.26730597j -0.0626506 -0.26730597j]\n",
      "The Eigenvectors are:\n",
      " [[ 0.57259529+0.j          0.30487542+0.18336427j  0.30487542-0.18336427j]\n",
      " [ 0.37487741+0.j          0.22357651-0.42678574j  0.22357651+0.42678574j]\n",
      " [ 0.72911012+0.j         -0.80080959+0.j         -0.80080959-0.j        ]]\n"
     ]
    }
   ],
   "source": [
    "#Create Matrix-1\n",
    "matrix_1 = np.random.random((3,3))\n",
    "#Create Matrix-2\n",
    "matrix_2 = np.random.random((3,3))\n",
    "\n",
    "#Add the 2 Matrices\n",
    "print(\"Addition:\\n\",np.add(matrix_1,matrix_2))\n",
    "\n",
    "#Subtraction\n",
    "print(\"Subtraction:\\n\",np.subtract(matrix_1,matrix_2))\n",
    "\n",
    "#Multiplication\n",
    "print(\"Multiplication:\\n\",np.matmul(matrix_1,matrix_2))\n",
    "\n",
    "print(\"\\nFor Matrix 1:\")\n",
    "#Calculate its inverse\n",
    "print(\"The inverse is:\\n\",np.linalg.inv(matrix_1))\n",
    "\n",
    "#Transpose the matrix\n",
    "print(\"The Transpose is:\\n\", matrix_1.T)\n",
    "\n",
    "#Calculate the Determinant\n",
    "print(\"The Determinant is:\\n\", np.linalg.det(matrix_1))\n",
    "\n",
    "#Print the Trace\n",
    "print(\"The Trace is:\\n\", matrix_1.trace())\n",
    "\n",
    "#Calculate the Rank\n",
    "print(\"The Rank is:\\n\", np.linalg.matrix_rank(matrix_1))\n",
    "\n",
    "# Calculate the Eigenvalues and Eigenvectors of that Matrix\n",
    "eigenvalues ,eigenvectors=np.linalg.eig(matrix_1)\n",
    "\n",
    "print(\"The Eigenvalues are:\\n\",eigenvalues)\n",
    "print(\"The Eigenvectors are:\\n\",eigenvectors)"
   ]
  },
  {
   "cell_type": "markdown",
   "metadata": {},
   "source": [
    "<h2> Tensor Manipulation </h2>\n",
    "<b>Being able to index and change the shape of Tensors is one of the most important skills that you will need to learn going forward!<br>\n",
    "I cannot overstate the importance of developing an intuative understanding of the following!!</b>\n",
    "<br>\n",
    "<h3> Indexing </h3> <br>\n",
    "Just like with lists, indexing matrices (or Tensors) is very important, we can do the same with numpy arrays!"
   ]
  },
  {
   "cell_type": "markdown",
   "metadata": {},
   "source": [
    "<b> Vectors! </b>"
   ]
  },
  {
   "cell_type": "code",
   "execution_count": 24,
   "metadata": {},
   "outputs": [
    {
     "name": "stdout",
     "output_type": "stream",
     "text": [
      "Our Vector:\n",
      " [1 2 3 4 5 6]\n",
      "All elements:\n",
      " [1 2 3 4 5 6]\n",
      "Within a range:\n",
      " [1 2 3]\n",
      "Another range:\n",
      " [4 5 6]\n",
      "The last element:\n",
      " 6\n",
      "3rd Element:\n",
      " 3\n"
     ]
    }
   ],
   "source": [
    "#Create a vector\n",
    "vector = np.array([ 1,2,3,4,5,6 ])\n",
    "print(\"Our Vector:\\n\",vector)\n",
    "\n",
    "#Select all elements of a vector\n",
    "print(\"All elements:\\n\",vector[:])\n",
    "\n",
    "#Select everything up to and including the 3rd element\n",
    "print(\"Within a range:\\n\",vector[:3])\n",
    "\n",
    "#Select the everything after the 3rd element\n",
    "print(\"Another range:\\n\",vector[3:])\n",
    "\n",
    "#Select the last element\n",
    "print(\"The last element:\\n\",vector[-1])\n",
    "\n",
    "#Select 3rd element of Vector\n",
    "#INDEXING STARTS AT 0\n",
    "print(\"3rd Element:\\n\",vector[2])"
   ]
  },
  {
   "cell_type": "markdown",
   "metadata": {},
   "source": [
    "<b> Matrix! </b>"
   ]
  },
  {
   "cell_type": "code",
   "execution_count": 25,
   "metadata": {},
   "outputs": [
    {
     "name": "stdout",
     "output_type": "stream",
     "text": [
      "Our Matrix:\n",
      " [[1 2 3]\n",
      " [4 5 6]\n",
      " [7 8 9]]\n",
      "A single element:\n",
      " 5\n",
      "Index rows with all columns:\n",
      " [[1 2 3]\n",
      " [4 5 6]]\n",
      "Index columns with all rows:\n",
      " [[1 2]\n",
      " [4 5]\n",
      " [7 8]]\n",
      "Index columns and rows:\n",
      " [[2 3]\n",
      " [5 6]]\n"
     ]
    }
   ],
   "source": [
    "#Create a Matrix\n",
    "matrix = np.array([[1,2,3],[4,5,6],[7,8,9]])\n",
    "print(\"Our Matrix:\\n\",matrix)\n",
    "\n",
    "#Select 2nd row 2nd column\n",
    "print(\"A single element:\\n\",matrix[1,1])\n",
    "\n",
    "#Select the first 2 rows and all the columns of the matrix\n",
    "print(\"Index rows with all columns:\\n\",matrix[:2,:])\n",
    "\n",
    "#Select all rows and the 2nd column of the matrix\n",
    "print(\"Index columns with all rows:\\n\",matrix[:,:2])\n",
    "\n",
    "#Select rows 1 and 2 and column 2 and 3 of the matrix\n",
    "print(\"Index columns and rows:\\n\",matrix[:2,1:])"
   ]
  },
  {
   "cell_type": "markdown",
   "metadata": {},
   "source": [
    "<h3> Describing Tensors </h3> <br>\n",
    "Let's see how we can view the characteristics of our Tensors"
   ]
  },
  {
   "cell_type": "code",
   "execution_count": 26,
   "metadata": {},
   "outputs": [
    {
     "name": "stdout",
     "output_type": "stream",
     "text": [
      "The Tensors shape is: (3, 5, 5)\n",
      "The Tensors size is: 75\n",
      "There are 3 Dimensions\n"
     ]
    }
   ],
   "source": [
    "#Lets create a large 3D Tensor\n",
    "Tensor = np.random.randint(0, 10, (3, 5, 5))\n",
    "\n",
    "#View the Number of elements in every dimension\n",
    "print(\"The Tensors shape is:\", Tensor.shape)\n",
    "\n",
    "#View the number of elements in total\n",
    "print(\"The Tensors size is:\", Tensor.size)\n",
    "\n",
    "#View the number of Dimensions(2 in this case)\n",
    "print(\"There are %d Dimensions\" %(Tensor.ndim))\n"
   ]
  },
  {
   "cell_type": "markdown",
   "metadata": {},
   "source": [
    "<h3> Reshaping </h3> <br>\n",
    "We can change a Tensor to one of the same size (same number of elements) but a different shape by using some Numpy functions"
   ]
  },
  {
   "cell_type": "code",
   "execution_count": 27,
   "metadata": {},
   "outputs": [
    {
     "name": "stdout",
     "output_type": "stream",
     "text": [
      "Origional Tensor:\n",
      " [[[1 1 9 5 7]\n",
      "  [8 9 0 3 9]\n",
      "  [6 4 5 2 0]\n",
      "  [1 8 8 5 7]\n",
      "  [1 7 9 2 1]]\n",
      "\n",
      " [[2 9 5 8 3]\n",
      "  [7 0 8 8 6]\n",
      "  [2 6 4 0 6]\n",
      "  [6 9 9 1 8]\n",
      "  [5 0 7 5 2]]\n",
      "\n",
      " [[3 2 0 0 8]\n",
      "  [8 0 7 1 9]\n",
      "  [6 8 3 1 8]\n",
      "  [9 3 4 2 7]\n",
      "  [8 2 2 4 6]]]\n",
      "Flatten to a 1D Tensor:\n",
      " [1 1 9 5 7 8 9 0 3 9 6 4 5 2 0 1 8 8 5 7 1 7 9 2 1 2 9 5 8 3 7 0 8 8 6 2 6\n",
      " 4 0 6 6 9 9 1 8 5 0 7 5 2 3 2 0 0 8 8 0 7 1 9 6 8 3 1 8 9 3 4 2 7 8 2 2 4\n",
      " 6]\n",
      "Reshape to 3x25:\n",
      " [[1 1 9 5 7 8 9 0 3 9 6 4 5 2 0 1 8 8 5 7 1 7 9 2 1]\n",
      " [2 9 5 8 3 7 0 8 8 6 2 6 4 0 6 6 9 9 1 8 5 0 7 5 2]\n",
      " [3 2 0 0 8 8 0 7 1 9 6 8 3 1 8 9 3 4 2 7 8 2 2 4 6]]\n",
      "Reshape to 5xwhatever:\n",
      " [[1 1 9 5 7 8 9 0 3 9 6 4 5 2 0]\n",
      " [1 8 8 5 7 1 7 9 2 1 2 9 5 8 3]\n",
      " [7 0 8 8 6 2 6 4 0 6 6 9 9 1 8]\n",
      " [5 0 7 5 2 3 2 0 0 8 8 0 7 1 9]\n",
      " [6 8 3 1 8 9 3 4 2 7 8 2 2 4 6]]\n"
     ]
    }
   ],
   "source": [
    "print(\"Origional Tensor:\\n\", Tensor)\n",
    "\n",
    "#We can also use the Flatten method to convert to a 1D Tensor\n",
    "print(\"Flatten to a 1D Tensor:\\n\",Tensor.flatten())\n",
    "\n",
    "#Let us reshape our Tensor to a 2D Tensor\n",
    "print(\"Reshape to 3x25:\\n\", Tensor.reshape(3,25))\n",
    "\n",
    "#Here the -1 tells Numpy to put as many elements as it needs here in order to maintain the given dimention sizes\n",
    "#AKA \"I don't care the size of this dimention as long as the first one is 3\"\n",
    "print(\"Reshape to 5xwhatever:\\n\",Tensor.reshape(5,-1))"
   ]
  },
  {
   "cell_type": "markdown",
   "metadata": {},
   "source": [
    "<h3>Plotting with matplotlib</h3>\n",
    "We've already seen the matplotlib library and used it to plot out lists of data. The matplotlib library works very closely with numpy and can plot out numpy arrays  "
   ]
  },
  {
   "cell_type": "code",
   "execution_count": 28,
   "metadata": {},
   "outputs": [],
   "source": [
    "import matplotlib.pyplot as plt"
   ]
  },
  {
   "cell_type": "code",
   "execution_count": 29,
   "metadata": {},
   "outputs": [
    {
     "data": {
      "text/plain": [
       "[<matplotlib.lines.Line2D at 0x7e8159d14c50>]"
      ]
     },
     "execution_count": 29,
     "metadata": {},
     "output_type": "execute_result"
    },
    {
     "data": {
      "image/png": "[encoded data removed]",
      "text/plain": [
       "<Figure size 640x480 with 1 Axes>"
      ]
     },
     "metadata": {},
     "output_type": "display_data"
    }
   ],
   "source": [
    "#Create a sine wave using numpy functions and matplotlib\n",
    "#create an array of 1000 points from 0 - 100\n",
    "x = np.linspace(0, 100, 1000)\n",
    "#calculate the sine of the points\n",
    "y = np.sin(x)\n",
    "#create a line plot\n",
    "plt.plot(x, y)"
   ]
  },
  {
   "cell_type": "code",
   "execution_count": 30,
   "metadata": {},
   "outputs": [
    {
     "data": {
      "text/plain": [
       "<matplotlib.image.AxesImage at 0x7e815a071bd0>"
      ]
     },
     "execution_count": 30,
     "metadata": {},
     "output_type": "execute_result"
    },
    {
     "data": {
      "image/png": "[encoded data removed]",
      "text/plain": [
       "<Figure size 640x480 with 1 Axes>"
      ]
     },
     "metadata": {},
     "output_type": "display_data"
    }
   ],
   "source": [
    "#Let's create an image as a 2D array\n",
    "img = np.zeros((60, 60))\n",
    "#Set some points to 1\n",
    "img[10:20, (15, 45)] = 1\n",
    "img[35:45, (15, 45)] = 1\n",
    "img[45, 15:46] = 1\n",
    "\n",
    "#imshow can display numpy arrays as colour (3D array - HxWxC) or grayscale images (2D array - HxW)!\n",
    "plt.imshow(img)"
   ]
  },
  {
   "cell_type": "markdown",
   "metadata": {},
   "source": [
    "<h2> Broadcasting </h2>\n",
    "<b>Important to know!</b> <br>\n",
    "Broadcasting is a powerful tool that lets us perform element wise matrix or vector operations across higher dimensional Tensors. <br>\n",
    "\n",
    "![alt text](https://www.researchgate.net/profile/Thanh_Dang_Diep/publication/326377197/figure/fig1/AS:647925902368772@1531488981904/Broadcasting-in-NumPy.png)\n",
    "\n",
    "Lets see what we mean by this"
   ]
  },
  {
   "cell_type": "code",
   "execution_count": 31,
   "metadata": {},
   "outputs": [
    {
     "name": "stdout",
     "output_type": "stream",
     "text": [
      "Tensor 1:\n",
      " [[1 9 5 6]]\n",
      "With shape:\n",
      " (1, 4)\n",
      "\n",
      "Tensor 2:\n",
      " [[7]\n",
      " [2]]\n",
      "With shape:\n",
      " (2, 1)\n"
     ]
    }
   ],
   "source": [
    "#Lets create 2 differently shaped 2D Tensors (Matrices)\n",
    "Tensor1 = np.random.randint(0, 10, (1, 4))\n",
    "Tensor2 = np.random.randint(0, 10, (2, 1))\n",
    "\n",
    "print(\"Tensor 1:\\n\", Tensor1)\n",
    "print(\"With shape:\\n\", Tensor1.shape)\n",
    "\n",
    "print(\"\\nTensor 2:\\n\", Tensor2)\n",
    "print(\"With shape:\\n\", Tensor2.shape)"
   ]
  },
  {
   "cell_type": "markdown",
   "metadata": {},
   "source": [
    "We know from high school days that there is no way we can perform a normal matrix addition on these two matrices, so when we try Numpy should give us an error right?"
   ]
  },
  {
   "cell_type": "code",
   "execution_count": 32,
   "metadata": {},
   "outputs": [
    {
     "name": "stdout",
     "output_type": "stream",
     "text": [
      "The resulting Tensor:\n",
      " [[ 8 16 12 13]\n",
      " [ 3 11  7  8]]\n",
      "The resulting shape is:\n",
      " (2, 4)\n"
     ]
    }
   ],
   "source": [
    "Tensor3 = np.add(Tensor1, Tensor2)\n",
    "\n",
    "print(\"The resulting Tensor:\\n\", Tensor3)\n",
    "print(\"The resulting shape is:\\n\", Tensor3.shape)"
   ]
  },
  {
   "cell_type": "markdown",
   "metadata": {},
   "source": [
    "WHAT!?! A 1x4 Matrix added a 2x1? resulting in a 2x4 Matrix, What did Numpy do here?<br>\n",
    "Well, as suggested Numpy is NOT performing a normal Matrix addition. Instead Numpy is performing a broadcast operation, THEN a Matrix addition. <br>\n",
    "So then, what is Broadcasting? <br>\n",
    "Let's look again at the shape of those two 2D Tensors and the resulting Tensor"
   ]
  },
  {
   "cell_type": "code",
   "execution_count": 33,
   "metadata": {},
   "outputs": [
    {
     "name": "stdout",
     "output_type": "stream",
     "text": [
      "Tensor 1 shape:\n",
      " (1, 4)\n",
      "Tensor 2 shape:\n",
      " (2, 1)\n",
      "Resulting Tensor shape:\n",
      " (2, 4)\n"
     ]
    }
   ],
   "source": [
    "print(\"Tensor 1 shape:\\n\", Tensor1.shape)\n",
    "print(\"Tensor 2 shape:\\n\", Tensor2.shape)\n",
    "print(\"Resulting Tensor shape:\\n\", Tensor3.shape)"
   ]
  },
  {
   "cell_type": "markdown",
   "metadata": {},
   "source": [
    "We can see the resulting shape of the Tensor addition seems to come from the larger dimensions of the multiplication<br>\n",
    "1x<b>4</b>+<b>2</b>x1 = <b>4x2</b> <br>\n",
    "During the \"Broadcast\" operation Numpy \"repeats\" (Broadcasts) dimensions of the two Tensors so that they are the same shape, and then performs the addition. <br>\n",
    "Let's do this manually:"
   ]
  },
  {
   "cell_type": "code",
   "execution_count": 34,
   "metadata": {},
   "outputs": [
    {
     "name": "stdout",
     "output_type": "stream",
     "text": [
      "Tensor 1:\n",
      " [[1 9 5 6]\n",
      " [1 9 5 6]]\n",
      "Tensor 1 shape:\n",
      " (2, 4)\n",
      "\n",
      "Tensor 2:\n",
      " [[7 7 7 7]\n",
      " [2 2 2 2]]\n",
      "Tensor 2 shape:\n",
      " (2, 4)\n"
     ]
    }
   ],
   "source": [
    "#Repeat entries of dim0 2 times\n",
    "Tensor1_repeated = Tensor1.repeat(2, 0)\n",
    "#Repeat entries of dim1 4 times\n",
    "Tensor2_repeated = Tensor2.repeat(4, 1)\n",
    "\n",
    "print(\"Tensor 1:\\n\", Tensor1_repeated)\n",
    "print(\"Tensor 1 shape:\\n\", Tensor1_repeated.shape)\n",
    "\n",
    "print(\"\\nTensor 2:\\n\", Tensor2_repeated)\n",
    "print(\"Tensor 2 shape:\\n\", Tensor2_repeated.shape)"
   ]
  },
  {
   "cell_type": "markdown",
   "metadata": {},
   "source": [
    "We've repeated the SMALLER corresponding dimension to that of the larger dimension.<br>\n",
    "NOTE: You can only broadcast Tensors if dimensions are indices multiples of each other!"
   ]
  },
  {
   "cell_type": "markdown",
   "metadata": {},
   "source": [
    "Now lets add the two resulting Tensors"
   ]
  },
  {
   "cell_type": "code",
   "execution_count": 35,
   "metadata": {},
   "outputs": [
    {
     "name": "stdout",
     "output_type": "stream",
     "text": [
      "Tensor 3:\n",
      " [[ 8 16 12 13]\n",
      " [ 3 11  7  8]]\n"
     ]
    }
   ],
   "source": [
    "Tensor3_repeated = np.add(Tensor1_repeated, Tensor2_repeated)\n",
    "print(\"Tensor 3:\\n\", Tensor3_repeated)"
   ]
  },
  {
   "cell_type": "markdown",
   "metadata": {},
   "source": [
    "We can see that the resulting Tensor is the same as the result from the initial addition!<br>\n",
    "NOTE: Numpy does not actually repeat the stored memory when performing the operation"
   ]
  },
  {
   "cell_type": "markdown",
   "metadata": {},
   "source": [
    "<b>Broadcasting use case</b><br>\n",
    "Lets see WHY we would use broadcasting with an example.<br>\n",
    "Let’s create a \"dataset\" of 100 data points, each datapoint will be a vector of 10 values (lets imagine each value could represent some measured \"quantity\")"
   ]
  },
  {
   "cell_type": "code",
   "execution_count": 36,
   "metadata": {},
   "outputs": [
    {
     "name": "stdout",
     "output_type": "stream",
     "text": [
      "Data shape: (100, 10)\n"
     ]
    }
   ],
   "source": [
    "#Create a random dataset\n",
    "data = np.random.randint(0, 100, (100, 10))\n",
    "print(\"Data shape:\", data.shape)"
   ]
  },
  {
   "cell_type": "markdown",
   "metadata": {},
   "source": [
    "Lets use broadcasting to normalise every datapoint (i) independently for every quantity (q) aka we need to find the mean and standard deviation of every \"quantity\" (q) and the perform a normalisation<br>\n",
    "\\begin{equation*}\n",
    "Xnorm_i^q = \\frac{(x_i^q -\\mu^q)}{\\sigma^q}\n",
    "\\end{equation*}"
   ]
  },
  {
   "cell_type": "code",
   "execution_count": 37,
   "metadata": {},
   "outputs": [
    {
     "name": "stdout",
     "output_type": "stream",
     "text": [
      "Quantity mean:\n",
      " [[45.68 48.88 47.91 53.72 48.94 48.01 51.93 47.59 44.04 48.19]]\n",
      "Quantity std:\n",
      " [[30.21 27.5  29.91 29.81 28.84 27.77 28.08 26.36 28.57 28.4 ]]\n",
      "mean shape:\n",
      " (1, 10)\n",
      "std shape:\n",
      " (1, 10)\n"
     ]
    }
   ],
   "source": [
    "#Find the mean across the 0th dimension\n",
    "#Aka find the mean of each quantity over the 100 datapoint\n",
    "#This should give us 10 means\n",
    "mean_vector = data.mean(0).reshape(1, 10)\n",
    "#Find the standard deviation across the 0th dimension\n",
    "std_vector = data.std(0).reshape(1, 10)\n",
    "\n",
    "print(\"Quantity mean:\\n\", mean_vector)\n",
    "print(\"Quantity std:\\n\", std_vector.round(2))\n",
    "\n",
    "print(\"mean shape:\\n\", mean_vector.shape)\n",
    "print(\"std shape:\\n\", std_vector.shape)"
   ]
  },
  {
   "cell_type": "markdown",
   "metadata": {},
   "source": [
    "Lets perform the normalisation on the whole dataset"
   ]
  },
  {
   "cell_type": "code",
   "execution_count": 38,
   "metadata": {},
   "outputs": [
    {
     "name": "stdout",
     "output_type": "stream",
     "text": [
      "Normalised dataset  shape:\n",
      " (100, 10)\n"
     ]
    }
   ],
   "source": [
    "data_norm = (data-mean_vector)/std_vector\n",
    "print(\"Normalised dataset  shape:\\n\", data_norm.shape)"
   ]
  },
  {
   "cell_type": "markdown",
   "metadata": {},
   "source": [
    "By using our knowledge of broadcasting we don't have to use loops and indexing to perform operations!<br>\n",
    "This is incredibly useful as matrix (Tensor) operations are MUCH faster than iterative loops and MUCH MUCH faster when we start to use GPUs and operations are performed in parallel"
   ]
  }
 ],
 "metadata": {
  "kernelspec": {
   "display_name": "pytorch-tutorials",
   "language": "python",
   "name": "python3"
  },
  "language_info": {
   "codemirror_mode": {
    "name": "ipython",
    "version": 3
   },
   "file_extension": ".py",
   "mimetype": "text/x-python",
   "name": "python",
   "nbconvert_exporter": "python",
   "pygments_lexer": "ipython3",
   "version": "3.11.2"
  }
 },
 "nbformat": 4,
 "nbformat_minor": 2
}
